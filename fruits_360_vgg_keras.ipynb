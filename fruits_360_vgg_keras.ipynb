{
  "nbformat": 4,
  "nbformat_minor": 0,
  "metadata": {
    "colab": {
      "name": "fruits-360_vgg_keras.ipynb",
      "version": "0.3.2",
      "provenance": [],
      "collapsed_sections": [],
      "include_colab_link": true
    },
    "kernelspec": {
      "name": "python3",
      "display_name": "Python 3"
    },
    "accelerator": "GPU"
  },
  "cells": [
    {
      "cell_type": "markdown",
      "metadata": {
        "id": "view-in-github",
        "colab_type": "text"
      },
      "source": [
        "<a href=\"https://colab.research.google.com/github/YasirHabib/Deep-Learning-Advanced-Computer-Vision/blob/master/fruits_360_vgg_keras.ipynb\" target=\"_parent\"><img src=\"https://colab.research.google.com/assets/colab-badge.svg\" alt=\"Open In Colab\"/></a>"
      ]
    },
    {
      "cell_type": "code",
      "metadata": {
        "id": "oi4kjHpTc3ov",
        "colab_type": "code",
        "colab": {}
      },
      "source": [
        "import os\n",
        "from sklearn.metrics import confusion_matrix\n",
        "import numpy as np\n",
        "import matplotlib.pyplot as plt"
      ],
      "execution_count": 0,
      "outputs": []
    },
    {
      "cell_type": "code",
      "metadata": {
        "id": "JzJJ1nXu48n_",
        "colab_type": "code",
        "colab": {}
      },
      "source": [
        "from keras.layers import Input, Lambda, Dense, Flatten\n",
        "from keras.models import Model\n",
        "from keras.applications.vgg16 import VGG16\n",
        "from keras.applications.vgg16 import preprocess_input\n",
        "from keras.preprocessing import image\n",
        "from keras.preprocessing.image import ImageDataGenerator"
      ],
      "execution_count": 0,
      "outputs": []
    },
    {
      "cell_type": "code",
      "metadata": {
        "id": "bbR3XC3Zc9l4",
        "colab_type": "code",
        "colab": {}
      },
      "source": [
        "from glob import glob"
      ],
      "execution_count": 0,
      "outputs": []
    },
    {
      "cell_type": "code",
      "metadata": {
        "id": "-JjQ7czT6yfb",
        "colab_type": "code",
        "colab": {
          "base_uri": "https://localhost:8080/",
          "height": 34
        },
        "outputId": "04b69695-4168-4d25-e43f-07e920dfc054"
      },
      "source": [
        "from google.colab import drive\n",
        "drive.mount('/content/gdrive', force_remount=True)"
      ],
      "execution_count": 158,
      "outputs": [
        {
          "output_type": "stream",
          "text": [
            "Mounted at /content/gdrive\n"
          ],
          "name": "stdout"
        }
      ]
    },
    {
      "cell_type": "code",
      "metadata": {
        "id": "llpvImTBdS4P",
        "colab_type": "code",
        "colab": {}
      },
      "source": [
        "# https://www.kaggle.com/moltean/fruits\n",
        "path = '/content/gdrive/My Drive/Colab Notebooks/Deep Learning: Advanced Computer Vision/fruits-360/'"
      ],
      "execution_count": 0,
      "outputs": []
    },
    {
      "cell_type": "code",
      "metadata": {
        "id": "hm_kDfPYdhh-",
        "colab_type": "code",
        "colab": {}
      },
      "source": [
        "train_dir = os.path.join(path, 'Training')\n",
        "validation_dir = os.path.join(path, 'Test')\n",
        "\n",
        "# train_apple_dir = os.path.join(train_dir, 'Apple Golden 1')\n",
        "# train_avocado_dir = os.path.join(train_dir, 'Avocado')\n",
        "# train_banana_dir = os.path.join(train_dir, 'Banana')\n",
        "# train_kiwi_dir = os.path.join(train_dir, 'Kiwi')\n",
        "# train_lemon_dir = os.path.join(train_dir, 'Lemon')\n",
        "# train_mango_dir = os.path.join(train_dir, 'Mango')\n",
        "# train_raspberry_dir = os.path.join(train_dir, 'Raspberry')\n",
        "# train_strawberry_dir = os.path.join(train_dir, 'Strawberry')\n",
        "\n",
        "# validation_apple_dir = os.path.join(validation_dir, 'Apple Golden 1')\n",
        "# validation_avocado_dir = os.path.join(validation_dir, 'Avocado')\n",
        "# validation_banana_dir = os.path.join(validation_dir, 'Banana')\n",
        "# validation_kiwi_dir = os.path.join(validation_dir, 'Kiwi')\n",
        "# validation_lemon_dir = os.path.join(validation_dir, 'Lemon')\n",
        "# validation_mango_dir = os.path.join(validation_dir, 'Mango')\n",
        "# validation_raspberry_dir = os.path.join(validation_dir, 'Raspberry')\n",
        "# validation_strawberry_dir = os.path.join(validation_dir, 'Strawberry')"
      ],
      "execution_count": 0,
      "outputs": []
    },
    {
      "cell_type": "code",
      "metadata": {
        "id": "3DzRQMn-26uQ",
        "colab_type": "code",
        "colab": {
          "base_uri": "https://localhost:8080/",
          "height": 357
        },
        "outputId": "b06fe569-3b08-4b45-e407-690900eb183a"
      },
      "source": [
        "num_apple_train = len(glob(train_dir + '/Apple Golden 1/*.jp*g'))\n",
        "num_avocado_train = len(glob(train_dir + '/Avocado/*.jp*g'))\n",
        "num_banana_train = len(glob(train_dir + '/Banana/*.jp*g'))\n",
        "num_kiwi_train = len(glob(train_dir + '/Kiwi/*.jp*g'))\n",
        "num_lemon_train = len(glob(train_dir + '/Lemon/*.jp*g'))\n",
        "num_mango_train = len(glob(train_dir + '/Mango/*.jp*g'))\n",
        "num_raspberry_train = len(glob(train_dir + '/Raspberry/*.jp*g'))\n",
        "num_strawberry_train = len(glob(train_dir + '/Strawberry/*.jp*g'))\n",
        "\n",
        "num_apple_validation = len(glob(validation_dir + '/Apple Golden 1/*.jp*g'))\n",
        "num_avocado_validation = len(glob(validation_dir + '/Avocado/*.jp*g'))\n",
        "num_banana_validation = len(glob(validation_dir + '/Banana/*.jp*g'))\n",
        "num_kiwi_validation = len(glob(validation_dir + '/Kiwi/*.jp*g'))\n",
        "num_lemon_validation = len(glob(validation_dir + '/Lemon/*.jp*g'))\n",
        "num_mango_validation = len(glob(validation_dir + '/Mango/*.jp*g'))\n",
        "num_raspberry_validation = len(glob(validation_dir + '/Raspberry/*.jp*g'))\n",
        "num_strawberry_validation = len(glob(validation_dir + '/Strawberry/*.jp*g'))\n",
        "\n",
        "total_train = len(glob(train_dir + '/*/*.jp*g'))\n",
        "total_validation = len(glob(validation_dir + '/*/*.jp*g'))\n",
        "\n",
        "print('total training apple images:', num_apple_train)\n",
        "print('total training avocado images:', num_avocado_train)\n",
        "print('total training banana images:', num_banana_train)\n",
        "print('total training kiwi images:', num_kiwi_train)\n",
        "print('total training lemon images:', num_lemon_train)\n",
        "print('total training mango images:', num_mango_train)\n",
        "print('total training raspberry images:', num_raspberry_train)\n",
        "print('total training strawberry images:', num_strawberry_train)\n",
        "print(\"\")\n",
        "print('total validation apple images:', num_apple_validation)\n",
        "print('total validation avocado images:', num_avocado_validation)\n",
        "print('total validation banana images:', num_banana_validation)\n",
        "print('total validation kiwi images:', num_kiwi_validation)\n",
        "print('total validation lemon images:', num_lemon_validation)\n",
        "print('total validation mango images:', num_mango_validation)\n",
        "print('total validation raspberry images:', num_raspberry_validation)\n",
        "print('total validation strawberry images:', num_strawberry_validation)\n",
        "print(\"\")\n",
        "print(\"Total training images:\", total_train)\n",
        "print(\"Total validation images:\", total_validation)\n",
        "\n",
        "# useful for getting number of classes\n",
        "folders = glob(train_dir + '/*')\n",
        "\n",
        "# look at an image for fun\n",
        "# plt.imshow(image.load_img(np.random.choice(image_files)))\n",
        "# plt.show()"
      ],
      "execution_count": 161,
      "outputs": [
        {
          "output_type": "stream",
          "text": [
            "total training apple images: 492\n",
            "total training avocado images: 427\n",
            "total training banana images: 490\n",
            "total training kiwi images: 466\n",
            "total training lemon images: 492\n",
            "total training mango images: 399\n",
            "total training raspberry images: 490\n",
            "total training strawberry images: 492\n",
            "\n",
            "total validation apple images: 164\n",
            "total validation avocado images: 143\n",
            "total validation banana images: 166\n",
            "total validation kiwi images: 156\n",
            "total validation lemon images: 164\n",
            "total validation mango images: 166\n",
            "total validation raspberry images: 166\n",
            "total validation strawberry images: 164\n",
            "\n",
            "Total training images: 3748\n",
            "Total validation images: 1289\n"
          ],
          "name": "stdout"
        }
      ]
    },
    {
      "cell_type": "code",
      "metadata": {
        "id": "j6X2fQkwPa7e",
        "colab_type": "code",
        "colab": {}
      },
      "source": [
        "# re-size all the images to this\n",
        "IMAGE_SIZE = [100, 100] # feel free to change depending on dataset\n",
        "\n",
        "# training config:\n",
        "epochs = 5\n",
        "batch_size = 32"
      ],
      "execution_count": 0,
      "outputs": []
    },
    {
      "cell_type": "code",
      "metadata": {
        "id": "G-k_IedcOXYH",
        "colab_type": "code",
        "colab": {
          "base_uri": "https://localhost:8080/",
          "height": 383
        },
        "outputId": "0d10a821-4f2e-405b-bd0d-f2ee1094385b"
      },
      "source": [
        "# create an instance of ImageDataGenerator\n",
        "gen = ImageDataGenerator(\n",
        "  rotation_range=20,\n",
        "  width_shift_range=0.1,\n",
        "  height_shift_range=0.1,\n",
        "  shear_range=0.1,\n",
        "  zoom_range=0.2,\n",
        "  horizontal_flip=True,\n",
        "  vertical_flip=True,\n",
        "  preprocessing_function=preprocess_input\n",
        ")\n",
        "\n",
        "# test generator to see how it works and some other useful things\n",
        "\n",
        "# get label mapping for confusion matrix plot later\n",
        "test_gen = gen.flow_from_directory(validation_dir, target_size=IMAGE_SIZE)\n",
        "print(test_gen.class_indices)\n",
        "labels = [None] * len(test_gen.class_indices)\n",
        "for k, v in test_gen.class_indices.items():\n",
        "  labels[v] = k\n",
        "\n",
        "# should be a strangely colored image (due to VGG weights being BGR)\n",
        "for x, y in test_gen:\n",
        "  print(\"min:\", x[0].min(), \"max:\", x[0].max())\n",
        "  plt.title(labels[np.argmax(y[0])])\n",
        "  plt.imshow(x[0])\n",
        "  plt.show()\n",
        "  break\n",
        "\n",
        "# create generators\n",
        "train_generator = gen.flow_from_directory(\n",
        "  train_dir,\n",
        "  target_size=IMAGE_SIZE,\n",
        "  shuffle=True,\n",
        "  batch_size=batch_size,\n",
        ")\n",
        "valid_generator = gen.flow_from_directory(\n",
        "  validation_dir,\n",
        "  target_size=IMAGE_SIZE,\n",
        "  shuffle=True,\n",
        "  batch_size=batch_size,\n",
        ")"
      ],
      "execution_count": 163,
      "outputs": [
        {
          "output_type": "stream",
          "text": [
            "Found 1289 images belonging to 8 classes.\n",
            "{'Apple Golden 1': 0, 'Avocado': 1, 'Banana': 2, 'Kiwi': 3, 'Lemon': 4, 'Mango': 5, 'Raspberry': 6, 'Strawberry': 7}\n",
            "min: -122.544464 max: 151.061\n"
          ],
          "name": "stdout"
        },
        {
          "output_type": "stream",
          "text": [
            "Clipping input data to the valid range for imshow with RGB data ([0..1] for floats or [0..255] for integers).\n"
          ],
          "name": "stderr"
        },
        {
          "output_type": "display_data",
          "data": {
            "image/png": "[encoded data removed]",
            "text/plain": [
              "<Figure size 432x288 with 1 Axes>"
            ]
          },
          "metadata": {
            "tags": []
          }
        },
        {
          "output_type": "stream",
          "text": [
            "Found 3748 images belonging to 8 classes.\n",
            "Found 1289 images belonging to 8 classes.\n"
          ],
          "name": "stdout"
        }
      ]
    },
    {
      "cell_type": "code",
      "metadata": {
        "id": "Y6QlBqLkeAwB",
        "colab_type": "code",
        "colab": {}
      },
      "source": [
        "# add preprocessing layer to the front of VGG\n",
        "vgg = VGG16(input_shape=IMAGE_SIZE + [3], weights='imagenet', include_top=False)\n",
        "\n",
        "# don't train existing weights\n",
        "for layer in vgg.layers:\n",
        "  layer.trainable = False\n",
        "\n",
        "# our layers - you can add more if you want\n",
        "x = Flatten()(vgg.output)\n",
        "# x = Dense(1000, activation='relu')(x)\n",
        "prediction = Dense(len(folders), activation='softmax')(x)\n",
        "\n",
        "\n",
        "# create a model object\n",
        "model = Model(inputs=vgg.input, outputs=prediction)\n",
        "\n",
        "# tell the model what cost and optimization method to use\n",
        "model.compile(\n",
        "  loss='categorical_crossentropy',\n",
        "  optimizer='rmsprop',\n",
        "  metrics=['accuracy']\n",
        ")"
      ],
      "execution_count": 0,
      "outputs": []
    },
    {
      "cell_type": "code",
      "metadata": {
        "id": "kEnbcPIMtcDl",
        "colab_type": "code",
        "colab": {
          "base_uri": "https://localhost:8080/",
          "height": 867
        },
        "outputId": "9dadb502-9ab5-44cf-e0cc-f79236e36338"
      },
      "source": [
        "# view the structure of the model\n",
        "model.summary()"
      ],
      "execution_count": 165,
      "outputs": [
        {
          "output_type": "stream",
          "text": [
            "Model: \"model_7\"\n",
            "_________________________________________________________________\n",
            "Layer (type)                 Output Shape              Param #   \n",
            "=================================================================\n",
            "input_7 (InputLayer)         (None, 100, 100, 3)       0         \n",
            "_________________________________________________________________\n",
            "block1_conv1 (Conv2D)        (None, 100, 100, 64)      1792      \n",
            "_________________________________________________________________\n",
            "block1_conv2 (Conv2D)        (None, 100, 100, 64)      36928     \n",
            "_________________________________________________________________\n",
            "block1_pool (MaxPooling2D)   (None, 50, 50, 64)        0         \n",
            "_________________________________________________________________\n",
            "block2_conv1 (Conv2D)        (None, 50, 50, 128)       73856     \n",
            "_________________________________________________________________\n",
            "block2_conv2 (Conv2D)        (None, 50, 50, 128)       147584    \n",
            "_________________________________________________________________\n",
            "block2_pool (MaxPooling2D)   (None, 25, 25, 128)       0         \n",
            "_________________________________________________________________\n",
            "block3_conv1 (Conv2D)        (None, 25, 25, 256)       295168    \n",
            "_________________________________________________________________\n",
            "block3_conv2 (Conv2D)        (None, 25, 25, 256)       590080    \n",
            "_________________________________________________________________\n",
            "block3_conv3 (Conv2D)        (None, 25, 25, 256)       590080    \n",
            "_________________________________________________________________\n",
            "block3_pool (MaxPooling2D)   (None, 12, 12, 256)       0         \n",
            "_________________________________________________________________\n",
            "block4_conv1 (Conv2D)        (None, 12, 12, 512)       1180160   \n",
            "_________________________________________________________________\n",
            "block4_conv2 (Conv2D)        (None, 12, 12, 512)       2359808   \n",
            "_________________________________________________________________\n",
            "block4_conv3 (Conv2D)        (None, 12, 12, 512)       2359808   \n",
            "_________________________________________________________________\n",
            "block4_pool (MaxPooling2D)   (None, 6, 6, 512)         0         \n",
            "_________________________________________________________________\n",
            "block5_conv1 (Conv2D)        (None, 6, 6, 512)         2359808   \n",
            "_________________________________________________________________\n",
            "block5_conv2 (Conv2D)        (None, 6, 6, 512)         2359808   \n",
            "_________________________________________________________________\n",
            "block5_conv3 (Conv2D)        (None, 6, 6, 512)         2359808   \n",
            "_________________________________________________________________\n",
            "block5_pool (MaxPooling2D)   (None, 3, 3, 512)         0         \n",
            "_________________________________________________________________\n",
            "flatten_7 (Flatten)          (None, 4608)              0         \n",
            "_________________________________________________________________\n",
            "dense_7 (Dense)              (None, 8)                 36872     \n",
            "=================================================================\n",
            "Total params: 14,751,560\n",
            "Trainable params: 36,872\n",
            "Non-trainable params: 14,714,688\n",
            "_________________________________________________________________\n"
          ],
          "name": "stdout"
        }
      ]
    },
    {
      "cell_type": "code",
      "metadata": {
        "id": "yYvpJfIAsp6y",
        "colab_type": "code",
        "colab": {
          "base_uri": "https://localhost:8080/",
          "height": 187
        },
        "outputId": "4988530b-ac15-4ca5-886d-b664a714d8c1"
      },
      "source": [
        "\n",
        "# fit the model\n",
        "r = model.fit_generator(\n",
        "  train_generator,\n",
        "  validation_data=valid_generator,\n",
        "  epochs=epochs,\n",
        "  steps_per_epoch = total_train // batch_size,\n",
        "  validation_steps = total_validation // batch_size,\n",
        ")"
      ],
      "execution_count": 166,
      "outputs": [
        {
          "output_type": "stream",
          "text": [
            "Epoch 1/5\n",
            "117/117 [==============================] - 25s 218ms/step - loss: 4.2456 - acc: 0.7228 - val_loss: 4.4210 - val_acc: 0.7078\n",
            "Epoch 2/5\n",
            "117/117 [==============================] - 25s 212ms/step - loss: 3.8291 - acc: 0.7607 - val_loss: 4.1950 - val_acc: 0.7391\n",
            "Epoch 3/5\n",
            "117/117 [==============================] - 25s 217ms/step - loss: 3.8358 - acc: 0.7620 - val_loss: 4.1009 - val_acc: 0.7438\n",
            "Epoch 4/5\n",
            "117/117 [==============================] - 25s 209ms/step - loss: 3.7900 - acc: 0.7641 - val_loss: 4.1035 - val_acc: 0.7454\n",
            "Epoch 5/5\n",
            "117/117 [==============================] - 25s 210ms/step - loss: 2.7944 - acc: 0.8197 - val_loss: 2.2659 - val_acc: 0.8520\n"
          ],
          "name": "stdout"
        }
      ]
    },
    {
      "cell_type": "code",
      "metadata": {
        "id": "eSrxAd_A5UqW",
        "colab_type": "code",
        "outputId": "ef7cc5a6-6d50-4f56-f89a-a611f84b5e6e",
        "colab": {
          "base_uri": "https://localhost:8080/",
          "height": 374
        }
      },
      "source": [
        "def get_confusion_matrix(data_path, N):\n",
        "  # we need to see the data in the same order\n",
        "  # for both predictions and targets\n",
        "  print(\"Generating confusion matrix\", N)\n",
        "  predictions = []\n",
        "  targets = []\n",
        "  i = 0\n",
        "  for x, y in gen.flow_from_directory(data_path, target_size=IMAGE_SIZE, shuffle=False, batch_size=batch_size * 2):\n",
        "    i += 1\n",
        "    if i % 50 == 0:\n",
        "      print(i)\n",
        "    p = model.predict(x)\n",
        "    p = np.argmax(p, axis=1)\n",
        "    y = np.argmax(y, axis=1)\n",
        "    predictions = np.concatenate((predictions, p))\n",
        "    targets = np.concatenate((targets, y))\n",
        "    if len(targets) >= N:\n",
        "      break\n",
        "\n",
        "  cm = confusion_matrix(targets, predictions)\n",
        "  return cm\n",
        "\n",
        "\n",
        "cm = get_confusion_matrix(train_dir, total_train)\n",
        "print(cm)\n",
        "valid_cm = get_confusion_matrix(validation_dir, total_validation)\n",
        "print(valid_cm)"
      ],
      "execution_count": 167,
      "outputs": [
        {
          "output_type": "stream",
          "text": [
            "Generating confusion matrix 3748\n",
            "Found 3748 images belonging to 8 classes.\n",
            "50\n",
            "[[492   0   0   0   0   0   0   0]\n",
            " [  0 416   0   0   0  11   0   0]\n",
            " [  0   0 490   0   0   0   0   0]\n",
            " [  0   0   0 466   0   0   0   0]\n",
            " [  0   0   0   0 492   0   0   0]\n",
            " [  0   3   0   1   0 395   0   0]\n",
            " [  0   3   0   0   0   0   0 487]\n",
            " [  0   0   0   0   0   0   0 492]]\n",
            "Generating confusion matrix 1289\n",
            "Found 1289 images belonging to 8 classes.\n",
            "[[164   0   0   0   0   0   0   0]\n",
            " [  0 126   0   0   0  17   0   0]\n",
            " [  0   0 166   0   0   0   0   0]\n",
            " [  0   0   0 156   0   0   0   0]\n",
            " [  0   0   0   0 164   0   0   0]\n",
            " [  0   2   0   0   0 164   0   0]\n",
            " [  0   2   0   0   0   0   0 164]\n",
            " [  0   0   0   0   0   0   0 164]]\n"
          ],
          "name": "stdout"
        }
      ]
    },
    {
      "cell_type": "code",
      "metadata": {
        "id": "FsnLFdIsttWg",
        "colab_type": "code",
        "colab": {
          "base_uri": "https://localhost:8080/",
          "height": 521
        },
        "outputId": "1f125263-dcd4-4765-bdd0-773c19a7dfbf"
      },
      "source": [
        "# plot some data\n",
        "\n",
        "# loss\n",
        "plt.plot(r.history['loss'], label='train loss')\n",
        "plt.plot(r.history['val_loss'], label='val loss')\n",
        "plt.legend()\n",
        "plt.show()\n",
        "\n",
        "# accuracies\n",
        "plt.plot(r.history['acc'], label='train acc')\n",
        "plt.plot(r.history['val_acc'], label='val acc')\n",
        "plt.legend()\n",
        "plt.show()"
      ],
      "execution_count": 168,
      "outputs": [
        {
          "output_type": "display_data",
          "data": {
            "image/png": "[encoded data removed]",
            "text/plain": [
              "<Figure size 432x288 with 1 Axes>"
            ]
          },
          "metadata": {
            "tags": []
          }
        },
        {
          "output_type": "display_data",
          "data": {
            "image/png": "[encoded data removed]",
            "text/plain": [
              "<Figure size 432x288 with 1 Axes>"
            ]
          },
          "metadata": {
            "tags": []
          }
        }
      ]
    }
  ]
}