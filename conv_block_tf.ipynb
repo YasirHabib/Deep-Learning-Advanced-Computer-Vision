{
  "nbformat": 4,
  "nbformat_minor": 0,
  "metadata": {
    "colab": {
      "name": "conv_block_tf.ipynb",
      "version": "0.3.2",
      "provenance": [],
      "collapsed_sections": [],
      "include_colab_link": true
    },
    "kernelspec": {
      "name": "python3",
      "display_name": "Python 3"
    },
    "accelerator": "GPU"
  },
  "cells": [
    {
      "cell_type": "markdown",
      "metadata": {
        "id": "view-in-github",
        "colab_type": "text"
      },
      "source": [
        "<a href=\"https://colab.research.google.com/github/YasirHabib/Deep-Learning-Advanced-Computer-Vision/blob/master/conv_block_tf.ipynb\" target=\"_parent\"><img src=\"https://colab.research.google.com/assets/colab-badge.svg\" alt=\"Open In Colab\"/></a>"
      ]
    },
    {
      "cell_type": "code",
      "metadata": {
        "id": "T9ME49Vhauc0",
        "colab_type": "code",
        "colab": {}
      },
      "source": [
        "import numpy as np\n",
        "import matplotlib.pyplot as plt\n",
        "from sklearn.utils import shuffle"
      ],
      "execution_count": 0,
      "outputs": []
    },
    {
      "cell_type": "code",
      "metadata": {
        "id": "Uu8JM2rCfFWL",
        "colab_type": "code",
        "colab": {}
      },
      "source": [
        "import tensorflow as tf"
      ],
      "execution_count": 0,
      "outputs": []
    },
    {
      "cell_type": "code",
      "metadata": {
        "id": "cu6OgcoufIkP",
        "colab_type": "code",
        "colab": {}
      },
      "source": [
        "def init_filter(shape):\n",
        "  w = np.random.randn(*shape) * np.sqrt(2.0 / np.prod(shape[:-1]))\n",
        "  return w.astype(np.float32)"
      ],
      "execution_count": 0,
      "outputs": []
    },
    {
      "cell_type": "code",
      "metadata": {
        "id": "uxQfqj2ZfwHH",
        "colab_type": "code",
        "colab": {}
      },
      "source": [
        "class ConvLayer():\n",
        "  def __init__(self, num_feature_maps, num_color_channels, filter_width, filter_height, stride=2, padding='VALID'):\n",
        "    sz = (filter_width, filter_height, num_color_channels, num_feature_maps)\n",
        "    W = init_filter(sz)\n",
        "    b = np.zeros(num_feature_maps, dtype=np.float32)\n",
        "\n",
        "    self.W = tf.Variable(W)\n",
        "    self.b = tf.Variable(b)\n",
        "    self.stride = stride\n",
        "    self.padding = padding\n",
        "    \n",
        "  def ConvLayer_forward(self, X):\n",
        "    conv_out = tf.nn.conv2d(X, self.W, strides=[1, self.stride, self.stride, 1], padding=self.padding)\n",
        "    conv_out = tf.nn.bias_add(conv_out, self.b)\n",
        "    return conv_out\n",
        "  \n",
        "  def copyFromKerasLayers(self, layer):\n",
        "    # only 1 layer to copy from\n",
        "    W, b = layer.get_weights()\n",
        "    op1 = self.W.assign(W)\n",
        "    op2 = self.b.assign(b)\n",
        "    self.session.run((op1, op2))\n",
        "\n",
        "  #def copyFromWeights(self, W, b):\n",
        "  # op1 = self.W.assign(W)\n",
        "  # op2 = self.b.assign(b)\n",
        "  # self.session.run((op1, op2))\n",
        "\n",
        "  def get_params(self):\n",
        "    return [self.W, self.b]"
      ],
      "execution_count": 0,
      "outputs": []
    },
    {
      "cell_type": "code",
      "metadata": {
        "id": "NCbeVepKx6GR",
        "colab_type": "code",
        "colab": {}
      },
      "source": [
        "class BatchNormLayer():\n",
        "\tdef __init__(self, D):\n",
        "    self.running_mean = tf.Variable(np.zeros(D, dtype=np.float32), trainable=False)\n",
        "    self.running_var  = tf.Variable(np.ones(D, dtype=np.float32), trainable=False)\n",
        "    self.gamma        = tf.Variable(np.ones(D, dtype=np.float32))\n",
        "    self.beta         = tf.Variable(np.zeros(D, dtype=np.float32))\n",
        "\n",
        "\tdef BatchNormLayer_forward(self, X):\n",
        "    return tf.nn.batch_normalization(X, self.running_mean, self.running_var, self.beta, self.gamma, 1e-3)\n",
        "    \n",
        "  def copyFromKerasLayers(self, layer):\n",
        "    # only 1 layer to copy from\n",
        "    # order:\n",
        "    # gamma, beta, moving mean, moving variance\n",
        "    gamma, beta, running_mean, running_var = layer.get_weights()\n",
        "    op1 = self.running_mean.assign(running_mean)\n",
        "    op2 = self.running_var.assign(running_var)\n",
        "    op3 = self.gamma.assign(gamma)\n",
        "    op4 = self.beta.assign(beta)\n",
        "    self.session.run((op1, op2, op3, op4))\n",
        "\n",
        "  def get_params(self):\n",
        "    return [self.running_mean, self.running_var, self.gamma, self.beta]"
      ],
      "execution_count": 0,
      "outputs": []
    }
  ]
}