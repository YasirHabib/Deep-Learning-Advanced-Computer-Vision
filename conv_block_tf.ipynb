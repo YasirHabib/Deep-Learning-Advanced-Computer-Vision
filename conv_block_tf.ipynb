{
  "nbformat": 4,
  "nbformat_minor": 0,
  "metadata": {
    "colab": {
      "name": "conv_block_tf.ipynb",
      "provenance": [],
      "collapsed_sections": [],
      "include_colab_link": true
    },
    "kernelspec": {
      "name": "python3",
      "display_name": "Python 3"
    },
    "accelerator": "GPU"
  },
  "cells": [
    {
      "cell_type": "markdown",
      "metadata": {
        "id": "view-in-github",
        "colab_type": "text"
      },
      "source": [
        "<a href=\"https://colab.research.google.com/github/YasirHabib/Deep-Learning-Advanced-Computer-Vision/blob/master/conv_block_tf.ipynb\" target=\"_parent\"><img src=\"https://colab.research.google.com/assets/colab-badge.svg\" alt=\"Open In Colab\"/></a>"
      ]
    },
    {
      "cell_type": "code",
      "metadata": {
        "id": "T9ME49Vhauc0",
        "colab_type": "code",
        "colab": {}
      },
      "source": [
        "import numpy as np\n",
        "import matplotlib.pyplot as plt\n",
        "from sklearn.utils import shuffle"
      ],
      "execution_count": 0,
      "outputs": []
    },
    {
      "cell_type": "code",
      "metadata": {
        "id": "Uu8JM2rCfFWL",
        "colab_type": "code",
        "colab": {}
      },
      "source": [
        "import tensorflow as tf"
      ],
      "execution_count": 0,
      "outputs": []
    },
    {
      "cell_type": "code",
      "metadata": {
        "id": "cu6OgcoufIkP",
        "colab_type": "code",
        "colab": {}
      },
      "source": [
        "def init_filter(shape):\n",
        "  w = np.random.randn(*shape) * np.sqrt(2.0 / np.prod(shape[:-1]))\n",
        "  return w.astype(np.float32)"
      ],
      "execution_count": 0,
      "outputs": []
    },
    {
      "cell_type": "code",
      "metadata": {
        "id": "uxQfqj2ZfwHH",
        "colab_type": "code",
        "colab": {}
      },
      "source": [
        "class ConvLayer():\n",
        "  def __init__(self, num_feature_maps, num_color_channels, filter_width, filter_height, stride, padding):\n",
        "    sz = (filter_width, filter_height, num_color_channels, num_feature_maps)\n",
        "    W = init_filter(sz)\n",
        "    b = np.zeros(num_feature_maps, dtype=np.float32)\n",
        "\n",
        "    self.W = tf.Variable(W)\n",
        "    self.b = tf.Variable(b)\n",
        "    self.stride = stride\n",
        "    self.padding = padding\n",
        "    \n",
        "  def forward(self, X):\n",
        "    conv_out = tf.nn.conv2d(X, self.W, strides=[1, self.stride, self.stride, 1], padding=self.padding)\n",
        "    conv_out = tf.nn.bias_add(conv_out, self.b)\n",
        "    return conv_out\n",
        "  \n",
        "  def copyFromKerasLayers(self, layer):\n",
        "    # only 1 layer to copy from\n",
        "    W, b = layer.get_weights()\n",
        "    op1 = self.W.assign(W)\n",
        "    op2 = self.b.assign(b)\n",
        "    self.session.run((op1, op2))\n",
        "\n",
        "  #def copyFromWeights(self, W, b):\n",
        "  # op1 = self.W.assign(W)\n",
        "  # op2 = self.b.assign(b)\n",
        "  # self.session.run((op1, op2))\n",
        "\n",
        "  def get_params(self):\n",
        "    return [self.W, self.b]"
      ],
      "execution_count": 0,
      "outputs": []
    },
    {
      "cell_type": "code",
      "metadata": {
        "id": "NCbeVepKx6GR",
        "colab_type": "code",
        "colab": {}
      },
      "source": [
        "class BatchNormLayer():\n",
        "  def __init__(self, D):\n",
        "    self.running_mean = tf.Variable(np.zeros(D, dtype=np.float32), trainable=False)\n",
        "    self.running_var  = tf.Variable(np.ones(D, dtype=np.float32), trainable=False)\n",
        "    self.gamma        = tf.Variable(np.ones(D, dtype=np.float32))\n",
        "    self.beta         = tf.Variable(np.zeros(D, dtype=np.float32))\n",
        "\n",
        "  def forward(self, X):\n",
        "    return tf.nn.batch_normalization(X, self.running_mean, self.running_var, self.beta, self.gamma, 1e-3)\n",
        "    \n",
        "  def copyFromKerasLayers(self, layer):\n",
        "    # only 1 layer to copy from\n",
        "    # order:\n",
        "    # gamma, beta, moving mean, moving variance\n",
        "    gamma, beta, running_mean, running_var = layer.get_weights()\n",
        "    op1 = self.running_mean.assign(running_mean)\n",
        "    op2 = self.running_var.assign(running_var)\n",
        "    op3 = self.gamma.assign(gamma)\n",
        "    op4 = self.beta.assign(beta)\n",
        "    self.session.run((op1, op2, op3, op4))\n",
        "\n",
        "  def get_params(self):\n",
        "    return [self.running_mean, self.running_var, self.gamma, self.beta]"
      ],
      "execution_count": 0,
      "outputs": []
    },
    {
      "cell_type": "code",
      "metadata": {
        "id": "K8kCIuqojfHa",
        "colab_type": "code",
        "colab": {}
      },
      "source": [
        "class ConvBlock():\n",
        "  def __init__(self, num_color_channels, fm_sizes, activation=tf.nn.relu):\n",
        "    assert(len(fm_sizes) == 3)\n",
        "    \n",
        "    self.session = None\n",
        "    self.activation = activation\n",
        "    \n",
        "    self.conv1 = ConvLayer(fm_sizes[0], num_color_channels, 1, 1, stride=1, padding='VALID')     # DO NOT USE SAME MODE WHEN YOU HAVE 1x1 Convolutions\n",
        "    self.bn1 = BatchNormLayer(fm_sizes[0])\n",
        "    self.conv2 = ConvLayer(fm_sizes[1], fm_sizes[0], 3, 3, stride=1, padding='SAME')\n",
        "    self.bn2 = BatchNormLayer(fm_sizes[1])\n",
        "    self.conv3 = ConvLayer(fm_sizes[2], fm_sizes[1], 1, 1, stride=1, padding='VALID')\n",
        "    self.bn3 = BatchNormLayer(fm_sizes[2])\n",
        "    \n",
        "    # init shortcut branch\n",
        "    # note: # feature maps shortcut = # feauture maps conv 3\n",
        "    self.convs = ConvLayer(fm_sizes[2], num_color_channels, 1, 1, stride=1, padding='VALID')\n",
        "    self.bns = BatchNormLayer(fm_sizes[2])\n",
        "    \n",
        "    # in case needed later\n",
        "    self.layers = [\n",
        "        self.conv1, self.bn1,\n",
        "        self.conv2, self.bn2,\n",
        "        self.conv3, self.bn3,\n",
        "        self.convs, self.bns\n",
        "    ]\n",
        "    \n",
        "    # this will not be used when input passed in from a previous layer\n",
        "    self.input_ = tf.placeholder(tf.float32, shape=(1, 224, 224, num_color_channels))\n",
        "    \n",
        "    self.output = self.forward(self.input_)\n",
        "    \n",
        "  def forward(self, X):\n",
        "    # main branch\n",
        "    FX=self.conv1.forward(X)\n",
        "    FX=self.bn1.forward(FX)\n",
        "    FX=self.activation(FX)\n",
        "    \n",
        "    FX=self.conv2.forward(FX)\n",
        "    FX=self.bn2.forward(FX)\n",
        "    FX=self.activation(FX)\n",
        "    \n",
        "    FX=self.conv3.forward(FX)\n",
        "    FX=self.bn3.forward(FX)\n",
        "    \n",
        "    # shortcut branch\n",
        "    SX=self.convs.forward(X)\n",
        "    SX=self.bns.forward(SX)\n",
        "    \n",
        "    return self.activation(FX+SX)\n",
        "  \n",
        "  def predict(self, X):\n",
        "    assert(self.session is not None)\n",
        "    return self.session.run(self.output, feed_dict={self.input_: X})\n",
        "  \n",
        "  def set_session(self, session):\n",
        "    # need to make this a session\n",
        "    # so assignment happens on sublayers too\n",
        "    self.session = session\n",
        "    self.conv1.session = session\n",
        "    self.bn1.session = session\n",
        "    self.conv2.session = session\n",
        "    self.bn2.session = session\n",
        "    self.conv3.session = session\n",
        "    self.bn3.session = session\n",
        "    self.convs.session = session\n",
        "    self.bns.session = session\n",
        "    \n",
        "  def copyFromKerasLayers(self, layers):\n",
        "    # [<keras.layers.convolutional.Conv2D at 0x117bd1978>,\n",
        "    #  <keras.layers.normalization.BatchNormalization at 0x117bf84a8>,\n",
        "    #  <keras.layers.core.Activation at 0x117c15fd0>,\n",
        "    #  <keras.layers.convolutional.Conv2D at 0x117c23be0>,\n",
        "    #  <keras.layers.normalization.BatchNormalization at 0x117c51978>,\n",
        "    #  <keras.layers.core.Activation at 0x117c93518>,\n",
        "    #  <keras.layers.convolutional.Conv2D at 0x117cc1518>,\n",
        "    #  <keras.layers.convolutional.Conv2D at 0x117d21630>,\n",
        "    #  <keras.layers.normalization.BatchNormalization at 0x117cd2a58>,\n",
        "    #  <keras.layers.normalization.BatchNormalization at 0x117d44b00>,\n",
        "    #  <keras.layers.merge.Add at 0x117dae748>,\n",
        "    #  <keras.layers.core.Activation at 0x117da2eb8>]\n",
        "    self.conv1.copyFromKerasLayers(layers[0])\n",
        "    self.bn1.copyFromKerasLayers(layers[1])\n",
        "    self.conv2.copyFromKerasLayers(layers[3])\n",
        "    self.bn2.copyFromKerasLayers(layers[4])\n",
        "    self.conv3.copyFromKerasLayers(layers[6])\n",
        "    self.bn3.copyFromKerasLayers(layers[8])\n",
        "    self.convs.copyFromKerasLayers(layers[7])\n",
        "    self.bns.copyFromKerasLayers(layers[9])\n",
        "    \n",
        "  def get_params(self):\n",
        "    params = []\n",
        "    for layer in self.layers:\n",
        "      params += layer.get_params()\n",
        "    return params"
      ],
      "execution_count": 0,
      "outputs": []
    },
    {
      "cell_type": "code",
      "metadata": {
        "id": "Rf06aA-BkMl2",
        "colab_type": "code",
        "outputId": "8acb2de8-e1b8-4a54-ed62-7aa11d73f71a",
        "colab": {
          "base_uri": "https://localhost:8080/",
          "height": 34
        }
      },
      "source": [
        "if __name__ == '__main__':\n",
        "  conv_block = ConvBlock(num_color_channels=3, fm_sizes=[64, 64, 256])\n",
        "  \n",
        "  # make a fake image\n",
        "  X = np.random.random((1, 224, 224, 3))\n",
        "  \n",
        "  init = tf.global_variables_initializer()\n",
        "  with tf.Session() as session:\n",
        "    conv_block.set_session(session)\n",
        "    session.run(init)\n",
        "    \n",
        "    output = conv_block.predict(X)\n",
        "    print(\"output.shape:\", output.shape)"
      ],
      "execution_count": 7,
      "outputs": [
        {
          "output_type": "stream",
          "text": [
            "output.shape: (1, 224, 224, 256)\n"
          ],
          "name": "stdout"
        }
      ]
    }
  ]
}